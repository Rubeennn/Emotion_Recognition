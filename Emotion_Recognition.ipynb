{
 "cells": [
  {
   "cell_type": "code",
   "execution_count": 1,
   "id": "dc150708-9149-4b8e-b285-599e82c276fb",
   "metadata": {
    "id": "dc150708-9149-4b8e-b285-599e82c276fb"
   },
   "outputs": [
    {
     "name": "stderr",
     "output_type": "stream",
     "text": [
      "2023-08-17 01:16:08.021754: I tensorflow/tsl/cuda/cudart_stub.cc:28] Could not find cuda drivers on your machine, GPU will not be used.\n",
      "2023-08-17 01:16:08.601863: I tensorflow/tsl/cuda/cudart_stub.cc:28] Could not find cuda drivers on your machine, GPU will not be used.\n",
      "2023-08-17 01:16:08.603486: I tensorflow/core/platform/cpu_feature_guard.cc:182] This TensorFlow binary is optimized to use available CPU instructions in performance-critical operations.\n",
      "To enable the following instructions: AVX2 FMA, in other operations, rebuild TensorFlow with the appropriate compiler flags.\n",
      "2023-08-17 01:16:10.913246: W tensorflow/compiler/tf2tensorrt/utils/py_utils.cc:38] TF-TRT Warning: Could not find TensorRT\n"
     ]
    }
   ],
   "source": [
    "import numpy as np\n",
    "import pandas as pd\n",
    "import matplotlib.pyplot as plt\n",
    "import tensorflow as tf\n",
    "from sklearn.feature_extraction.text import TfidfVectorizer\n",
    "import re\n",
    "import string\n",
    "import nltk\n",
    "import seaborn as sns\n",
    "from nltk.corpus import stopwords\n",
    "from nltk.tokenize import word_tokenize\n",
    "from nltk.stem import PorterStemmer\n",
    "from nltk.stem import WordNetLemmatizer"
   ]
  },
  {
   "cell_type": "markdown",
   "id": "66751d36-de6d-488f-bbd0-eb3b079a9411",
   "metadata": {},
   "source": [
    "# Simpler dataset"
   ]
  },
  {
   "cell_type": "code",
   "execution_count": 72,
   "id": "a08f2c75-c6d3-4fbf-b246-712e52ce7b6b",
   "metadata": {},
   "outputs": [],
   "source": [
    "df_train = pd.read_csv(\"emotion_train.txt\",sep=\";\",\n",
    "    names=[\"Description\",\"Emotion\"])\n",
    "df_test = pd.read_csv(\"emotion_test.txt\",sep=\";\",\n",
    "    names=[\"Description\",\"Emotion\"])\n",
    "df_val = pd.read_csv(\"emotion_val.txt\",sep=\";\",\n",
    "    names=[\"Description\",\"Emotion\"])"
   ]
  },
  {
   "cell_type": "code",
   "execution_count": 133,
   "id": "-1bBWex32Kn5",
   "metadata": {
    "colab": {
     "base_uri": "https://localhost:8080/"
    },
    "id": "-1bBWex32Kn5",
    "outputId": "c439d2ff-1662-421d-a97d-7019d00109d1"
   },
   "outputs": [
    {
     "data": {
      "text/plain": [
       "(array(['anger', 'fear', 'joy', 'love', 'sadness', 'surprise'],\n",
       "       dtype=object),\n",
       " array([2089, 1888, 5258, 1282, 4553,  563]))"
      ]
     },
     "execution_count": 133,
     "metadata": {},
     "output_type": "execute_result"
    }
   ],
   "source": [
    "# Classes and their counts\n",
    "np.unique(np.array(df_train['Emotion']), return_counts=True)"
   ]
  },
  {
   "cell_type": "code",
   "execution_count": 134,
   "id": "L9OMXerx0ADl",
   "metadata": {
    "colab": {
     "base_uri": "https://localhost:8080/",
     "height": 112
    },
    "id": "L9OMXerx0ADl",
    "outputId": "909a0bda-db8f-4aef-98a6-7302b2cfe8cb"
   },
   "outputs": [
    {
     "data": {
      "text/html": [
       "<div>\n",
       "<style scoped>\n",
       "    .dataframe tbody tr th:only-of-type {\n",
       "        vertical-align: middle;\n",
       "    }\n",
       "\n",
       "    .dataframe tbody tr th {\n",
       "        vertical-align: top;\n",
       "    }\n",
       "\n",
       "    .dataframe thead th {\n",
       "        text-align: right;\n",
       "    }\n",
       "</style>\n",
       "<table border=\"1\" class=\"dataframe\">\n",
       "  <thead>\n",
       "    <tr style=\"text-align: right;\">\n",
       "      <th></th>\n",
       "      <th>0</th>\n",
       "      <th>1</th>\n",
       "      <th>2</th>\n",
       "      <th>3</th>\n",
       "      <th>4</th>\n",
       "      <th>5</th>\n",
       "    </tr>\n",
       "  </thead>\n",
       "  <tbody>\n",
       "    <tr>\n",
       "      <th>0</th>\n",
       "      <td>anger</td>\n",
       "      <td>fear</td>\n",
       "      <td>joy</td>\n",
       "      <td>love</td>\n",
       "      <td>sadness</td>\n",
       "      <td>surprise</td>\n",
       "    </tr>\n",
       "    <tr>\n",
       "      <th>1</th>\n",
       "      <td>2089</td>\n",
       "      <td>1888</td>\n",
       "      <td>5258</td>\n",
       "      <td>1282</td>\n",
       "      <td>4553</td>\n",
       "      <td>563</td>\n",
       "    </tr>\n",
       "  </tbody>\n",
       "</table>\n",
       "</div>"
      ],
      "text/plain": [
       "       0     1     2     3        4         5\n",
       "0  anger  fear   joy  love  sadness  surprise\n",
       "1   2089  1888  5258  1282     4553       563"
      ]
     },
     "execution_count": 134,
     "metadata": {},
     "output_type": "execute_result"
    }
   ],
   "source": [
    "pd.DataFrame(np.unique(np.array(df_train['Emotion']), return_counts=True))"
   ]
  },
  {
   "cell_type": "code",
   "execution_count": 75,
   "id": "e4f780af",
   "metadata": {
    "colab": {
     "base_uri": "https://localhost:8080/"
    },
    "id": "e4f780af",
    "outputId": "493be458-5c77-4bf1-fffb-e335638cfd5c"
   },
   "outputs": [
    {
     "name": "stderr",
     "output_type": "stream",
     "text": [
      "[nltk_data] Downloading package punkt to\n",
      "[nltk_data]     /home/ruben_ghazaryan/nltk_data...\n",
      "[nltk_data]   Package punkt is already up-to-date!\n",
      "[nltk_data] Downloading package stopwords to\n",
      "[nltk_data]     /home/ruben_ghazaryan/nltk_data...\n",
      "[nltk_data]   Package stopwords is already up-to-date!\n",
      "[nltk_data] Downloading package wordnet to\n",
      "[nltk_data]     /home/ruben_ghazaryan/nltk_data...\n",
      "[nltk_data]   Package wordnet is already up-to-date!\n"
     ]
    }
   ],
   "source": [
    "\n",
    "\n",
    "# Download necessary NLTK resources (only needed once)\n",
    "nltk.download('punkt')\n",
    "nltk.download('stopwords')\n",
    "nltk.download('wordnet')\n",
    "\n",
    "# Load your tabular data into a pandas DataFrame\n",
    "# Assuming your data is in a CSV file, replace 'data.csv' with your file path\n",
    "# data = pd.read_csv('data.csv')\n",
    "\n",
    "# Define a function for text preprocessing\n",
    "def preprocess_text(text):\n",
    "    # Convert text to lowercase\n",
    "    text = text.lower()\n",
    "\n",
    "    # Remove numbers\n",
    "    text = re.sub(r'\\d+', '', text)\n",
    "\n",
    "    # Remove punctuation and special characters\n",
    "    text = text.translate(str.maketrans('', '', string.punctuation))\n",
    "\n",
    "    # Tokenize the text\n",
    "    words = word_tokenize(text)\n",
    "\n",
    "    # Remove stopwords\n",
    "    stop_words = set(stopwords.words('english'))\n",
    "    words = [word for word in words if word not in stop_words]\n",
    "\n",
    "    # Apply stemming or lemmatization (choose one)\n",
    "    # Stemming reduces words to their root form (e.g., running -> run)\n",
    "    # ps = PorterStemmer()\n",
    "    # words = [ps.stem(word) for word in words]\n",
    "\n",
    "    # Lemmatization reduces words to their base or dictionary form (e.g., running -> run)\n",
    "    lemma = WordNetLemmatizer()\n",
    "    words = [lemma.lemmatize(word) for word in words]\n",
    "\n",
    "    # If the count of words is less than 3, then give it an empty list(To delete that rows later)\n",
    "    if len(words) < 3:\n",
    "      words = []\n",
    "\n",
    "    # Join the words back into a single string\n",
    "    preprocessed_text = ' '.join(words)\n",
    "    return preprocessed_text\n",
    "    # return text\n",
    "\n",
    "# Apply the preprocessing function to the 'text' column in the DataFrame\n",
    "df_train['preprocessed_text'] = df_train['Description'].apply(preprocess_text)\n",
    "df_test['preprocessed_text'] = df_test['Description'].apply(preprocess_text)\n",
    "df_val['preprocessed_text'] = df_val['Description'].apply(preprocess_text)\n",
    "\n",
    "# Save the preprocessed data to a new CSV file (optional)\n",
    "# data.to_csv('preprocessed_data.csv', index=False)\n"
   ]
  },
  {
   "cell_type": "code",
   "execution_count": 11,
   "id": "WgaCZPz87tGJ",
   "metadata": {
    "id": "WgaCZPz87tGJ"
   },
   "outputs": [],
   "source": [
    "pd.set_option('display.max_colwidth', None)"
   ]
  },
  {
   "cell_type": "code",
   "execution_count": 80,
   "id": "thXVVZu-HpFw",
   "metadata": {
    "id": "thXVVZu-HpFw"
   },
   "outputs": [],
   "source": [
    "    # if len(words) < 3:\n",
    "    #   words = []\n",
    "df_train = df_train.loc[df_train['preprocessed_text'] != '']\n",
    "df_val = df_val.loc[df_val['preprocessed_text'] != '']\n",
    "df_test = df_test.loc[df_test['preprocessed_text'] != '']\n"
   ]
  },
  {
   "cell_type": "markdown",
   "id": "-w60ViOouO39",
   "metadata": {
    "id": "-w60ViOouO39"
   },
   "source": [
    "### Deleting the duplicate rows."
   ]
  },
  {
   "cell_type": "code",
   "execution_count": 81,
   "id": "XOkJp8SXpQp6",
   "metadata": {
    "id": "XOkJp8SXpQp6"
   },
   "outputs": [
    {
     "name": "stderr",
     "output_type": "stream",
     "text": [
      "/tmp/ipykernel_3828/2953887364.py:2: SettingWithCopyWarning: \n",
      "A value is trying to be set on a copy of a slice from a DataFrame\n",
      "\n",
      "See the caveats in the documentation: https://pandas.pydata.org/pandas-docs/stable/user_guide/indexing.html#returning-a-view-versus-a-copy\n",
      "  df_train.drop(index, axis = 0, inplace = True)\n"
     ]
    }
   ],
   "source": [
    "index = df_train[df_train['preprocessed_text'].duplicated() == True].index\n",
    "df_train.drop(index, axis = 0, inplace = True)\n",
    "df_train.reset_index(inplace=True, drop = True)"
   ]
  },
  {
   "cell_type": "code",
   "execution_count": 82,
   "id": "0Wm5vC6K1_OS",
   "metadata": {
    "id": "0Wm5vC6K1_OS"
   },
   "outputs": [],
   "source": [
    "index = df_val[df_val['preprocessed_text'].duplicated() == True].index\n",
    "df_val.drop(index, axis = 0, inplace = True)\n",
    "df_val.reset_index(inplace=True, drop = True)"
   ]
  },
  {
   "cell_type": "code",
   "execution_count": 83,
   "id": "gRUtoRny2b2e",
   "metadata": {
    "id": "gRUtoRny2b2e"
   },
   "outputs": [],
   "source": [
    "index = df_test[df_test['preprocessed_text'].duplicated() == True].index\n",
    "df_test.drop(index, axis = 0, inplace = True)\n",
    "df_test.reset_index(inplace=True, drop = True)"
   ]
  },
  {
   "cell_type": "code",
   "execution_count": 84,
   "id": "hvz1JPNwE7Kq",
   "metadata": {
    "colab": {
     "base_uri": "https://localhost:8080/"
    },
    "id": "hvz1JPNwE7Kq",
    "outputId": "1926741d-838d-4be9-a0f5-c2e692e69e3a"
   },
   "outputs": [
    {
     "data": {
      "text/plain": [
       "(15633, 3)"
      ]
     },
     "execution_count": 84,
     "metadata": {},
     "output_type": "execute_result"
    }
   ],
   "source": [
    "df_train.shape"
   ]
  },
  {
   "cell_type": "code",
   "execution_count": 85,
   "id": "A8TlMD9Fl7Kf",
   "metadata": {
    "id": "A8TlMD9Fl7Kf"
   },
   "outputs": [],
   "source": [
    "X_train = df_train['preprocessed_text']\n",
    "X_val = df_val['preprocessed_text']\n",
    "X_test = df_test['preprocessed_text']"
   ]
  },
  {
   "cell_type": "code",
   "execution_count": 22,
   "id": "IZJUm8n9AvEa",
   "metadata": {
    "colab": {
     "base_uri": "https://localhost:8080/"
    },
    "id": "IZJUm8n9AvEa",
    "outputId": "b9cd70d3-2b1b-43ee-bba8-3eaef090b1a8"
   },
   "outputs": [
    {
     "data": {
      "text/plain": [
       "(7845,)"
      ]
     },
     "execution_count": 22,
     "metadata": {},
     "output_type": "execute_result"
    }
   ],
   "source": [
    "X_train.shape"
   ]
  },
  {
   "cell_type": "markdown",
   "id": "TNdAJmGdeFAd",
   "metadata": {
    "id": "TNdAJmGdeFAd"
   },
   "source": [
    "# Tokenization"
   ]
  },
  {
   "cell_type": "code",
   "execution_count": 86,
   "id": "KD8hNulUd6X1",
   "metadata": {
    "id": "KD8hNulUd6X1"
   },
   "outputs": [],
   "source": [
    "\n",
    "\n",
    "import pandas as pd\n",
    "from sklearn.model_selection import train_test_split\n",
    "from tensorflow.keras.preprocessing.text import Tokenizer\n",
    "from tensorflow.keras.preprocessing.sequence import pad_sequences\n",
    "from tensorflow.keras.models import Sequential\n",
    "from tensorflow.keras.layers import Embedding, LSTM, Dense\n"
   ]
  },
  {
   "cell_type": "code",
   "execution_count": 87,
   "id": "tt1mW6Ibr-mE",
   "metadata": {
    "colab": {
     "base_uri": "https://localhost:8080/"
    },
    "id": "tt1mW6Ibr-mE",
    "outputId": "39e781b5-05d3-4eed-f664-ee1ec0480f49"
   },
   "outputs": [
    {
     "data": {
      "text/plain": [
       "(23906, 35)"
      ]
     },
     "execution_count": 87,
     "metadata": {},
     "output_type": "execute_result"
    }
   ],
   "source": [
    "max_voc_size = len(set(X_train.sum().split()))\n",
    "max_seq_len = X_train.apply(lambda x: len(x.split())).max()\n",
    "max_voc_size, max_seq_len"
   ]
  },
  {
   "cell_type": "code",
   "execution_count": 88,
   "id": "U-OFf3pihKfR",
   "metadata": {
    "id": "U-OFf3pihKfR"
   },
   "outputs": [],
   "source": [
    "tokenizer = Tokenizer(oov_token='<OOV>')\n",
    "tokenizer.fit_on_texts(X_train)\n",
    "train_sequences = tokenizer.texts_to_sequences(X_train)\n",
    "train_sequences_padded = pad_sequences(train_sequences, maxlen=max_seq_len)\n"
   ]
  },
  {
   "cell_type": "code",
   "execution_count": 89,
   "id": "DIPP3UlTn84X",
   "metadata": {
    "id": "DIPP3UlTn84X"
   },
   "outputs": [],
   "source": [
    "val_sequences = tokenizer.texts_to_sequences(X_val)\n",
    "val_sequences_padded = pad_sequences(val_sequences, maxlen=max_seq_len)"
   ]
  },
  {
   "cell_type": "code",
   "execution_count": 135,
   "id": "886e3a4f-2f29-403e-8460-8e42b2fe9c41",
   "metadata": {},
   "outputs": [],
   "source": [
    "test_sequences = tokenizer.texts_to_sequences(X_test)\n",
    "test_sequences_padded = pad_sequences(test_sequences, maxlen=max_seq_len)"
   ]
  },
  {
   "cell_type": "code",
   "execution_count": 136,
   "id": "KeYjqxzwCUNv",
   "metadata": {
    "colab": {
     "base_uri": "https://localhost:8080/"
    },
    "id": "KeYjqxzwCUNv",
    "outputId": "9b4f450c-0e92-4eef-c361-f3a382a18fb3"
   },
   "outputs": [
    {
     "data": {
      "text/plain": [
       "((15633, 35), (1967, 35))"
      ]
     },
     "execution_count": 136,
     "metadata": {},
     "output_type": "execute_result"
    }
   ],
   "source": [
    "train_sequences_padded.shape, test_sequences_padded.shape"
   ]
  },
  {
   "cell_type": "code",
   "execution_count": 139,
   "id": "E7VviaSSseS9",
   "metadata": {
    "colab": {
     "base_uri": "https://localhost:8080/"
    },
    "id": "E7VviaSSseS9",
    "outputId": "984702f1-fdc5-4cea-bc36-f01a00e123da"
   },
   "outputs": [
    {
     "data": {
      "text/plain": [
       "13473"
      ]
     },
     "execution_count": 139,
     "metadata": {},
     "output_type": "execute_result"
    }
   ],
   "source": [
    "len(tokenizer.word_index)"
   ]
  },
  {
   "cell_type": "code",
   "execution_count": 140,
   "id": "ZN4aRS7dm_cv",
   "metadata": {
    "colab": {
     "base_uri": "https://localhost:8080/"
    },
    "id": "ZN4aRS7dm_cv",
    "outputId": "490c43f6-1623-44c2-913f-9e7cf1a2a721"
   },
   "outputs": [
    {
     "data": {
      "text/plain": [
       "(array(['sadness', 'anger', 'love', 'surprise', 'fear', 'joy'],\n",
       "       dtype=object),\n",
       " (15633,))"
      ]
     },
     "execution_count": 140,
     "metadata": {},
     "output_type": "execute_result"
    }
   ],
   "source": [
    "y_train = df_train['Emotion']\n",
    "y_val = df_val['Emotion']\n",
    "y_test = df_test['Emotion']\n",
    "y_train.unique(), y_train.shape"
   ]
  },
  {
   "cell_type": "code",
   "execution_count": 141,
   "id": "fbBpumWo-1QT",
   "metadata": {
    "id": "fbBpumWo-1QT"
   },
   "outputs": [],
   "source": [
    "# Making the classes numeric, maybe useful\n",
    "from sklearn.preprocessing import LabelEncoder\n",
    "from keras.utils import to_categorical\n",
    "\n",
    "# Label encode your non-numeric classes\n",
    "label_encoder = LabelEncoder()\n",
    "y_train_encoded = label_encoder.fit_transform(y_train)\n",
    "y_val_encoded = label_encoder.transform(y_val)"
   ]
  },
  {
   "cell_type": "code",
   "execution_count": 142,
   "id": "jRNxlKlKXNpN",
   "metadata": {
    "colab": {
     "base_uri": "https://localhost:8080/"
    },
    "id": "jRNxlKlKXNpN",
    "outputId": "6633788d-e608-4599-ab8d-e2820bbed54a"
   },
   "outputs": [
    {
     "data": {
      "text/plain": [
       "(array(['anger', 'fear', 'joy', 'love', 'sadness', 'surprise'],\n",
       "       dtype=object),\n",
       " array([2089, 1888, 5258, 1282, 4553,  563]))"
      ]
     },
     "execution_count": 142,
     "metadata": {},
     "output_type": "execute_result"
    }
   ],
   "source": [
    "np.unique(np.array(y_train), return_counts=True)"
   ]
  },
  {
   "cell_type": "code",
   "execution_count": 143,
   "id": "Bt0PtovONjJ1",
   "metadata": {
    "colab": {
     "base_uri": "https://localhost:8080/"
    },
    "id": "Bt0PtovONjJ1",
    "outputId": "b5fcb664-8f38-47c0-efa5-f82242dc4b18"
   },
   "outputs": [
    {
     "data": {
      "text/plain": [
       "array([0, 1, 2, 3, 4, 5])"
      ]
     },
     "execution_count": 143,
     "metadata": {},
     "output_type": "execute_result"
    }
   ],
   "source": [
    "np.unique(y_train_encoded)"
   ]
  },
  {
   "cell_type": "code",
   "execution_count": 94,
   "id": "a0388dab-7dbb-4ebf-8d7b-c3ac10ec27b7",
   "metadata": {},
   "outputs": [],
   "source": [
    "vocabSize = len(tokenizer.index_word) + 1\n"
   ]
  },
  {
   "cell_type": "code",
   "execution_count": 95,
   "id": "5a25b31e-4b49-4373-829b-5a589a6fd6fe",
   "metadata": {},
   "outputs": [],
   "source": [
    "\n",
    "num_tokens = vocabSize\n",
    "embedding_dim = 200 #latent factors or features  \n",
    "hits = 0\n",
    "misses = 0\n",
    "embeddings_index = {}"
   ]
  },
  {
   "cell_type": "code",
   "execution_count": 144,
   "id": "ef26d7db-227f-4121-906f-617c3559d981",
   "metadata": {},
   "outputs": [],
   "source": [
    "# Upload the file to Colab and get its path\n",
    "uploaded_file_path = 'glove.twitter.27B.200d.txt'  # Change this to the actual path\n",
    "\n",
    "# Initialize an embeddings_index dictionary\n",
    "embeddings_index = {}\n",
    "\n",
    "# Open and read the GloVe embeddings file\n",
    "with open(uploaded_file_path, encoding='utf-8') as f:\n",
    "    for line in f:\n",
    "        values = line.split()\n",
    "        word = values[0]\n",
    "        coefs = np.asarray(values[1:], dtype='float32')\n",
    "        embeddings_index[word] = coefs\n",
    "\n",
    "# Now you can use embeddings_index to access the pre-trained word vectors.\n",
    "# For example:\n",
    "embedding_vector = embeddings_index.get('word')\n"
   ]
  },
  {
   "cell_type": "code",
   "execution_count": 97,
   "id": "931003f9-634d-4623-a534-7dd7e16fbc56",
   "metadata": {},
   "outputs": [
    {
     "name": "stdout",
     "output_type": "stream",
     "text": [
      "Found 1193514 word vectors.\n",
      "Converted 12601 words (872 misses)\n"
     ]
    }
   ],
   "source": [
    "# Read word vectors\n",
    "with open(uploaded_file_path) as f:\n",
    "    for line in f:\n",
    "        word, coefs = line.split(maxsplit=1)\n",
    "        coefs = np.fromstring(coefs, \"f\", sep=\" \")\n",
    "        embeddings_index[word] = coefs\n",
    "print(\"Found %s word vectors.\" % len(embeddings_index))\n",
    "\n",
    "# Assign word vectors to our dictionary/vocabulary\n",
    "embedding_matrix = np.zeros((num_tokens, embedding_dim))\n",
    "for word, i in tokenizer.word_index.items():\n",
    "    embedding_vector = embeddings_index.get(word)\n",
    "    if embedding_vector is not None:\n",
    "        # Words not found in embedding index will be all-zeros.\n",
    "        # This includes the representation for \"padding\" and \"OOV\"\n",
    "        embedding_matrix[i] = embedding_vector\n",
    "        hits += 1\n",
    "    else:\n",
    "        misses += 1\n",
    "print(\"Converted %d words (%d misses)\" % (hits, misses))"
   ]
  },
  {
   "cell_type": "code",
   "execution_count": 145,
   "id": "c95daed5-e401-4ff5-9f8e-7afb0ece231a",
   "metadata": {},
   "outputs": [],
   "source": [
    "from tensorflow.keras.models import Sequential\n",
    "\n",
    "from tensorflow.keras.layers import Dense, LSTM, Embedding, Bidirectional"
   ]
  },
  {
   "cell_type": "code",
   "execution_count": 146,
   "id": "a90e90ba-d536-4e32-a953-f7b93dc79b44",
   "metadata": {},
   "outputs": [
    {
     "data": {
      "text/plain": [
       "array([4, 4, 3, ..., 2, 2, 2])"
      ]
     },
     "execution_count": 146,
     "metadata": {},
     "output_type": "execute_result"
    }
   ],
   "source": [
    "y_train_encoded\n",
    "y_val_encoded"
   ]
  },
  {
   "cell_type": "code",
   "execution_count": 124,
   "id": "8576b563-e1f6-462c-8b93-e40995d3797a",
   "metadata": {},
   "outputs": [],
   "source": [
    "model = Sequential()\n",
    "model.add(Embedding(vocabSize, 200, input_length=train_sequences_padded.shape[1], weights=[embedding_matrix], trainable=False))\n",
    "model.add(Bidirectional(LSTM(256, dropout=0.2,recurrent_dropout=0.2, return_sequences=True)))\n",
    "model.add(Bidirectional(LSTM(128, dropout=0.2,recurrent_dropout=0.2, return_sequences=True)))\n",
    "model.add(Bidirectional(LSTM(128, dropout=0.2,recurrent_dropout=0.2)))\n",
    "model.add(Dense(6, activation='softmax'))"
   ]
  },
  {
   "cell_type": "code",
   "execution_count": 125,
   "id": "debb4d5a-36f6-4952-9ddc-6b4a2a6fd64c",
   "metadata": {},
   "outputs": [
    {
     "data": {
      "text/plain": [
       "35"
      ]
     },
     "execution_count": 125,
     "metadata": {},
     "output_type": "execute_result"
    }
   ],
   "source": [
    "train_sequences_padded.shape[1]"
   ]
  },
  {
   "cell_type": "code",
   "execution_count": 129,
   "id": "5ed4075f-b248-446f-ad6b-8c823ff00a0d",
   "metadata": {},
   "outputs": [],
   "source": [
    "model.compile(loss='sparse_categorical_crossentropy', optimizer='adam', metrics=['accuracy'])"
   ]
  },
  {
   "cell_type": "code",
   "execution_count": 130,
   "id": "1bc26c7e-961a-4675-b6c7-eb7efd765b34",
   "metadata": {},
   "outputs": [
    {
     "data": {
      "text/plain": [
       "((15633, 35), (15633,), (1962, 35), (1962,))"
      ]
     },
     "execution_count": 130,
     "metadata": {},
     "output_type": "execute_result"
    }
   ],
   "source": [
    "train_sequences_padded.shape, y_train.shape, val_sequences_padded.shape, y_val.shape"
   ]
  },
  {
   "cell_type": "code",
   "execution_count": 132,
   "id": "f8d989f1-c7cb-4ca3-abe4-2945d7996117",
   "metadata": {},
   "outputs": [
    {
     "name": "stdout",
     "output_type": "stream",
     "text": [
      "Epoch 1/10\n",
      "62/62 [==============================] - 151s 2s/step - loss: 0.1187 - accuracy: 0.9477 - val_loss: 0.1745 - val_accuracy: 0.9327\n",
      "Epoch 2/10\n",
      "62/62 [==============================] - 125s 2s/step - loss: 0.1090 - accuracy: 0.9530 - val_loss: 0.1566 - val_accuracy: 0.9281\n",
      "Epoch 3/10\n",
      "62/62 [==============================] - 126s 2s/step - loss: 0.0927 - accuracy: 0.9586 - val_loss: 0.1650 - val_accuracy: 0.9302\n",
      "Epoch 4/10\n",
      "62/62 [==============================] - 125s 2s/step - loss: 0.0841 - accuracy: 0.9646 - val_loss: 0.1783 - val_accuracy: 0.9241\n",
      "Epoch 5/10\n",
      "62/62 [==============================] - 125s 2s/step - loss: 0.0787 - accuracy: 0.9628 - val_loss: 0.1708 - val_accuracy: 0.9327\n",
      "Epoch 6/10\n",
      "62/62 [==============================] - 124s 2s/step - loss: 0.0723 - accuracy: 0.9695 - val_loss: 0.1767 - val_accuracy: 0.9251\n",
      "Epoch 7/10\n",
      "62/62 [==============================] - 127s 2s/step - loss: 0.0736 - accuracy: 0.9687 - val_loss: 0.1929 - val_accuracy: 0.9292\n",
      "Epoch 8/10\n",
      "62/62 [==============================] - 125s 2s/step - loss: 0.0629 - accuracy: 0.9713 - val_loss: 0.2009 - val_accuracy: 0.9205\n",
      "Epoch 9/10\n",
      "62/62 [==============================] - 125s 2s/step - loss: 0.0586 - accuracy: 0.9757 - val_loss: 0.2197 - val_accuracy: 0.9281\n",
      "Epoch 10/10\n",
      "62/62 [==============================] - 125s 2s/step - loss: 0.0561 - accuracy: 0.9754 - val_loss: 0.2046 - val_accuracy: 0.9261\n"
     ]
    },
    {
     "data": {
      "text/plain": [
       "<keras.callbacks.History at 0x7f99c4418580>"
      ]
     },
     "execution_count": 132,
     "metadata": {},
     "output_type": "execute_result"
    }
   ],
   "source": [
    "model.fit(train_sequences_padded, y_train_encoded, epochs=10, validation_data=(val_sequences_padded, y_val_encoded), batch_size=256)"
   ]
  },
  {
   "cell_type": "markdown",
   "id": "hrsq65UUuwaM",
   "metadata": {
    "id": "hrsq65UUuwaM"
   },
   "source": [
    "# Model"
   ]
  },
  {
   "cell_type": "code",
   "execution_count": null,
   "id": "ttWmD4GBvwOJ",
   "metadata": {
    "colab": {
     "base_uri": "https://localhost:8080/"
    },
    "id": "ttWmD4GBvwOJ",
    "outputId": "d3db5df4-c8bc-4979-cc19-220a286f7e70"
   },
   "outputs": [
    {
     "name": "stderr",
     "output_type": "stream",
     "text": [
      "Exception in thread Thread-10 (_worker_loop):\n",
      "Traceback (most recent call last):\n",
      "  File \"/usr/lib/python3.10/threading.py\", line 1016, in _bootstrap_inner\n",
      "Exception in thread Thread-11 (_worker_loop):\n",
      "Traceback (most recent call last):\n",
      "  File \"/usr/lib/python3.10/threading.py\", line 1016, in _bootstrap_inner\n",
      "Exception in thread Thread-12 (_worker_loop):\n",
      "Traceback (most recent call last):\n",
      "  File \"/usr/lib/python3.10/threading.py\", line 1016, in _bootstrap_inner\n",
      "    self.run()\n",
      "  File \"/usr/lib/python3.10/threading.py\", line 953, in run\n",
      "    self._target(*self._args, **self._kwargs)\n",
      "  File \"/usr/local/lib/python3.10/dist-packages/gensim/models/word2vec.py\", line 1166, in _worker_loop\n",
      "    tally, raw_tally = self._do_train_job(data_iterable, alpha, thread_private_mem)\n",
      "  File \"/usr/local/lib/python3.10/dist-packages/gensim/models/word2vec.py\", line 957, in _do_train_job\n",
      "    self.run()\n",
      "  File \"/usr/lib/python3.10/threading.py\", line 953, in run\n",
      "    self._target(*self._args, **self._kwargs)\n",
      "  File \"/usr/local/lib/python3.10/dist-packages/gensim/models/word2vec.py\", line 1166, in _worker_loop\n",
      "    tally, raw_tally = self._do_train_job(data_iterable, alpha, thread_private_mem)\n",
      "  File \"/usr/local/lib/python3.10/dist-packages/gensim/models/word2vec.py\", line 957, in _do_train_job\n",
      "    tally += train_batch_cbow(self, sentences, alpha, work, neu1, self.compute_loss)\n",
      "  File \"gensim/models/word2vec_inner.pyx\", line 638, in gensim.models.word2vec_inner.train_batch_cbow\n",
      "ValueError: The truth value of an array with more than one element is ambiguous. Use a.any() or a.all()\n",
      "    self.run()\n",
      "  File \"/usr/lib/python3.10/threading.py\", line 953, in run\n",
      "    self._target(*self._args, **self._kwargs)\n",
      "  File \"/usr/local/lib/python3.10/dist-packages/gensim/models/word2vec.py\", line 1166, in _worker_loop\n",
      "    tally, raw_tally = self._do_train_job(data_iterable, alpha, thread_private_mem)\n",
      "  File \"/usr/local/lib/python3.10/dist-packages/gensim/models/word2vec.py\", line 957, in _do_train_job\n",
      "    tally += train_batch_cbow(self, sentences, alpha, work, neu1, self.compute_loss)\n",
      "  File \"gensim/models/word2vec_inner.pyx\", line 638, in gensim.models.word2vec_inner.train_batch_cbow\n",
      "ValueError: The truth value of an array with more than one element is ambiguous. Use a.any() or a.all()\n",
      "    tally += train_batch_cbow(self, sentences, alpha, work, neu1, self.compute_loss)\n",
      "  File \"gensim/models/word2vec_inner.pyx\", line 638, in gensim.models.word2vec_inner.train_batch_cbow\n",
      "ValueError: The truth value of an array with more than one element is ambiguous. Use a.any() or a.all()\n"
     ]
    }
   ],
   "source": [
    "# Just a draft\n",
    "\n",
    "# from gensim.models import Word2Vec\n",
    "# from keras.layers import Embedding, LSTM, Dense, Bidirectional, GlobalMaxPooling1D, Dropout\n",
    "# from keras.models import Sequential\n",
    "# import numpy as np\n",
    "\n",
    "# # Assuming you have tokenized train_texts\n",
    "# model = Word2Vec(sentences=train_sequences_paddedd, vector_size=100, window=5, min_count=1, sg=0)\n",
    "\n",
    "# embedding_matrix = np.zeros((len(model.wv.index_to_key) + 1, 100))\n",
    "# for i, word in enumerate(model.wv.index_to_key):\n",
    "#     embedding_matrix[i] = model.wv[word]"
   ]
  },
  {
   "cell_type": "code",
   "execution_count": 159,
   "id": "NTB9r2dlKJ9_",
   "metadata": {
    "colab": {
     "base_uri": "https://localhost:8080/"
    },
    "id": "NTB9r2dlKJ9_",
    "outputId": "eaf3e547-3860-432b-d2a5-f4599f39e08a"
   },
   "outputs": [
    {
     "name": "stdout",
     "output_type": "stream",
     "text": [
      "Model: \"sequential_13\"\n",
      "_________________________________________________________________\n",
      " Layer (type)                Output Shape              Param #   \n",
      "=================================================================\n",
      " embedding_13 (Embedding)    (None, 21, 100)           500000    \n",
      "                                                                 \n",
      " bidirectional_38 (Bidirecti  (None, 21, 512)          731136    \n",
      " onal)                                                           \n",
      "                                                                 \n",
      " bidirectional_39 (Bidirecti  (None, 21, 256)          656384    \n",
      " onal)                                                           \n",
      "                                                                 \n",
      " bidirectional_40 (Bidirecti  (None, 256)              394240    \n",
      " onal)                                                           \n",
      "                                                                 \n",
      " dropout_12 (Dropout)        (None, 256)               0         \n",
      "                                                                 \n",
      " dense_12 (Dense)            (None, 2)                 514       \n",
      "                                                                 \n",
      "=================================================================\n",
      "Total params: 2,282,274\n",
      "Trainable params: 2,282,274\n",
      "Non-trainable params: 0\n",
      "_________________________________________________________________\n"
     ]
    }
   ],
   "source": [
    "# Trying to create efficent model\n",
    "\n",
    "from keras.layers import Bidirectional, GlobalMaxPooling1D, Dropout\n",
    "\n",
    "model = Sequential()\n",
    "\n",
    "# Embedding layer\n",
    "model.add(Embedding(input_dim=5000, output_dim=100, input_length=max_seq_len))\n",
    "\n",
    "# model.add(tf.keras.layers.Embedding(input_dim=embedding_matrix.shape[0],\n",
    "#                                     output_dim=embedding_matrix.shape[1],\n",
    "#                                     weights=[embedding_matrix],\n",
    "#                                     input_length=max_seq_len,\n",
    "#                                     trainable=False))\n",
    "\n",
    "# Bidirectional LSTM layers\n",
    "# model.add(Bidirectional(LSTM(512, return_sequences=True)))\n",
    "# model.add(Bidirectional(LSTM(256, return_sequences=True)))\n",
    "\n",
    "# model.add(Bidirectional(LSTM(128, return_sequences=True)))\n",
    "# model.add(Bidirectional(LSTM(64, return_sequences=True)))\n",
    "\n",
    "model.add(Bidirectional(LSTM(256, dropout=0.2,recurrent_dropout=0.2, return_sequences=True)))\n",
    "model.add(Bidirectional(LSTM(128, dropout=0.2,recurrent_dropout=0.2, return_sequences=True)))\n",
    "model.add(Bidirectional(LSTM(128, dropout=0.2,recurrent_dropout=0.2)))\n",
    "\n",
    "# Global Max Pooling layer\n",
    "# model.add(GlobalMaxPooling1D())\n",
    "\n",
    "# Dropout layer for regularization\n",
    "model.add(Dropout(0.2))\n",
    "\n",
    "# Dense layer with softmax activation for classification\n",
    "model.add(Dense(2, activation='sigmoid')) , # should be changed if number of classes > 2\n",
    "\n",
    "# Compile the model\n",
    "model.compile(loss='sparse_categorical_crossentropy', optimizer='adam', metrics=['accuracy'])\n",
    "\n",
    "# Print the model summary\n",
    "model.summary()\n"
   ]
  },
  {
   "cell_type": "code",
   "execution_count": 160,
   "id": "SN-k_ByMncrS",
   "metadata": {
    "colab": {
     "base_uri": "https://localhost:8080/"
    },
    "id": "SN-k_ByMncrS",
    "outputId": "edeb6f06-f307-4c6b-abbf-04195e1ba838"
   },
   "outputs": [
    {
     "name": "stdout",
     "output_type": "stream",
     "text": [
      "Epoch 1/5\n",
      "246/246 [==============================] - 245s 913ms/step - loss: 0.5518 - accuracy: 0.7049 - val_loss: 0.4694 - val_accuracy: 0.7868\n",
      "Epoch 2/5\n",
      "246/246 [==============================] - 231s 940ms/step - loss: 0.3667 - accuracy: 0.8474 - val_loss: 0.4707 - val_accuracy: 0.7807\n",
      "Epoch 3/5\n",
      "246/246 [==============================] - 224s 910ms/step - loss: 0.2889 - accuracy: 0.8881 - val_loss: 0.4898 - val_accuracy: 0.7736\n",
      "Epoch 4/5\n",
      "246/246 [==============================] - 231s 938ms/step - loss: 0.2316 - accuracy: 0.9141 - val_loss: 0.4951 - val_accuracy: 0.7675\n",
      "Epoch 5/5\n",
      "246/246 [==============================] - 302s 1s/step - loss: 0.1795 - accuracy: 0.9358 - val_loss: 0.7123 - val_accuracy: 0.7675\n"
     ]
    },
    {
     "data": {
      "text/plain": [
       "<keras.callbacks.History at 0x7b7935ff42e0>"
      ]
     },
     "execution_count": 160,
     "metadata": {},
     "output_type": "execute_result"
    }
   ],
   "source": [
    "# And the problem is that the validation loss is increasing I do not know why,\n",
    "# I think the preoblem is in the preprocessing\n",
    "\n",
    "model.fit(train_sequences_padded, y_train_encoded, epochs=5, validation_data=(val_sequences_padded, y_val_encoded))"
   ]
  },
  {
   "cell_type": "code",
   "execution_count": 162,
   "id": "c9pHCtrtfjdJ",
   "metadata": {
    "colab": {
     "base_uri": "https://localhost:8080/",
     "height": 331
    },
    "id": "c9pHCtrtfjdJ",
    "outputId": "45a79c6b-32a2-4f73-86fa-26f100589aba"
   },
   "outputs": [
    {
     "data": {
      "image/png": "[encoded data removed]",
      "text/plain": [
       "<Figure size 1500x500 with 3 Axes>"
      ]
     },
     "metadata": {},
     "output_type": "display_data"
    }
   ],
   "source": [
    "# Plots to see the counts for each class, Should be balanced I think...\n",
    "\n",
    "sentiment_order = ['empty', 'sadness', 'enthusiasm', 'neutral', 'worry', 'surprise',\n",
    "       'love', 'fun', 'hate', 'happiness', 'relief']\n",
    "\n",
    "plt.figure(figsize=(15, 5))  # Adjust the figure size as needed\n",
    "\n",
    "# Plot for df_train\n",
    "plt.subplot(131)  # 1 row, 3 columns, 1st subplot\n",
    "sns.countplot(x='sentiment', data=df_train, order=sentiment_order)\n",
    "plt.title(\"Train Dataset\")\n",
    "plt.xticks(rotation=45)\n",
    "\n",
    "# Plot for df_test\n",
    "plt.subplot(132)  # 1 row, 3 columns, 2nd subplot\n",
    "sns.countplot(x='sentiment', data=df_test, order=sentiment_order)\n",
    "plt.title(\"Test Dataset\")\n",
    "plt.xticks(rotation=45)\n",
    "\n",
    "# Plot for df_val\n",
    "plt.subplot(133)  # 1 row, 3 columns, 3rd subplot\n",
    "sns.countplot(x='sentiment', data=df_val, order=sentiment_order)\n",
    "plt.title(\"Validation Dataset\")\n",
    "plt.xticks(rotation=45)\n",
    "\n",
    "# Adjust spacing between subplots\n",
    "plt.tight_layout()\n",
    "\n",
    "plt.show()"
   ]
  },
  {
   "cell_type": "markdown",
   "id": "7XV6zkQivV3J",
   "metadata": {
    "id": "7XV6zkQivV3J"
   },
   "source": [
    "# Draft"
   ]
  },
  {
   "cell_type": "code",
   "execution_count": 18,
   "id": "ROuvA7uNpJxu",
   "metadata": {
    "colab": {
     "base_uri": "https://localhost:8080/"
    },
    "id": "ROuvA7uNpJxu",
    "outputId": "c505d4eb-03b2-4aaa-9c0b-52d6a9983178"
   },
   "outputs": [
    {
     "data": {
      "text/plain": [
       "Index(['preprocessed_text', 'sentiment'], dtype='object')"
      ]
     },
     "execution_count": 18,
     "metadata": {},
     "output_type": "execute_result"
    }
   ],
   "source": [
    "df_train.columns"
   ]
  },
  {
   "cell_type": "code",
   "execution_count": 18,
   "id": "C7wPN2WupA_3",
   "metadata": {
    "id": "C7wPN2WupA_3"
   },
   "outputs": [],
   "source": []
  },
  {
   "cell_type": "code",
   "execution_count": 82,
   "id": "ih6eNxUEhP1R",
   "metadata": {
    "colab": {
     "base_uri": "https://localhost:8080/"
    },
    "id": "ih6eNxUEhP1R",
    "outputId": "3b0c1e15-4da8-4a96-fff3-556bae7edefa"
   },
   "outputs": [
    {
     "data": {
      "text/plain": [
       "(0, 0, 0)"
      ]
     },
     "execution_count": 82,
     "metadata": {},
     "output_type": "execute_result"
    }
   ],
   "source": [
    "df_train.duplicated().sum(), df_test.duplicated().sum(),  df_val.duplicated().sum(),"
   ]
  },
  {
   "cell_type": "code",
   "execution_count": 83,
   "id": "4r5_lWsnFfnY",
   "metadata": {
    "colab": {
     "base_uri": "https://localhost:8080/"
    },
    "id": "4r5_lWsnFfnY",
    "outputId": "af8609b4-19f2-4f39-cf32-fd6ee04aa653"
   },
   "outputs": [
    {
     "data": {
      "text/plain": [
       "((27774, 2), (4650, 2), (4622, 2))"
      ]
     },
     "execution_count": 83,
     "metadata": {},
     "output_type": "execute_result"
    }
   ],
   "source": [
    "df_train.shape, df_val.shape, df_test.shape"
   ]
  },
  {
   "cell_type": "code",
   "execution_count": 84,
   "id": "yR4YLx-h3MPx",
   "metadata": {
    "id": "yR4YLx-h3MPx"
   },
   "outputs": [],
   "source": [
    "tf_idf = TfidfVectorizer()"
   ]
  },
  {
   "cell_type": "code",
   "execution_count": 87,
   "id": "5iYVqOwo30Ef",
   "metadata": {
    "id": "5iYVqOwo30Ef"
   },
   "outputs": [],
   "source": [
    "X_train_tf = tf_idf.fit_transform(X_train).toarray()"
   ]
  },
  {
   "cell_type": "code",
   "execution_count": 89,
   "id": "XO__Tl9T5G8x",
   "metadata": {
    "id": "XO__Tl9T5G8x"
   },
   "outputs": [],
   "source": [
    "X_val_tf = tf_idf.transform(X_val).toarray()\n",
    "X_test_tf = tf_idf.transform(X_test).toarray()"
   ]
  },
  {
   "cell_type": "code",
   "execution_count": 90,
   "id": "V9W03ZNa356v",
   "metadata": {
    "colab": {
     "base_uri": "https://localhost:8080/"
    },
    "id": "V9W03ZNa356v",
    "outputId": "ad5e4c50-e7fa-46ec-86f9-38472a38d3b2"
   },
   "outputs": [
    {
     "data": {
      "text/plain": [
       "((27774, 38785), (4650, 38785))"
      ]
     },
     "execution_count": 90,
     "metadata": {},
     "output_type": "execute_result"
    }
   ],
   "source": [
    "X_train_tf.shape, X_val_tf.shape"
   ]
  },
  {
   "cell_type": "code",
   "execution_count": 31,
   "id": "tnDk7eaC4qbH",
   "metadata": {
    "colab": {
     "base_uri": "https://localhost:8080/"
    },
    "id": "tnDk7eaC4qbH",
    "outputId": "f31dfa88-390d-4542-a541-d2b07c6e6f18"
   },
   "outputs": [
    {
     "data": {
      "text/plain": [
       "(27773,)"
      ]
     },
     "execution_count": 31,
     "metadata": {},
     "output_type": "execute_result"
    }
   ],
   "source": [
    "y_train.shape"
   ]
  },
  {
   "cell_type": "code",
   "execution_count": 170,
   "id": "G-5-8_yd7666",
   "metadata": {
    "id": "G-5-8_yd7666"
   },
   "outputs": [],
   "source": [
    "# pip install optuna"
   ]
  },
  {
   "cell_type": "code",
   "execution_count": null,
   "id": "uG2qkl0F73Cx",
   "metadata": {
    "id": "uG2qkl0F73Cx"
   },
   "outputs": [],
   "source": [
    "import optuna\n",
    "from sklearn.linear_model import LogisticRegression\n",
    "from sklearn.metrics import accuracy_score\n",
    "\n",
    "def objective(trial):\n",
    "    # Define hyperparameters to optimize\n",
    "    C = trial.suggest_float('C', 0.001, 10.0, log=True)\n",
    "    max_iter = trial.suggest_int('max_iter', 50, 500)\n",
    "\n",
    "    # Create and train the LogisticRegression model\n",
    "    model = LogisticRegression(C=C, max_iter=max_iter, solver='liblinear', random_state=0)\n",
    "    model.fit(X_train_tf, y_train)\n",
    "\n",
    "    # Make predictions on the validation set\n",
    "    y_pred = model.predict(X_val_tf)\n",
    "\n",
    "    # Calculate the accuracy (or any other desired metric)\n",
    "    accuracy = accuracy_score(y_val, y_pred)\n",
    "\n",
    "    return accuracy  # Return the metric you want to optimize\n",
    "\n",
    "study = optuna.create_study(direction='maximize')  # We want to maximize accuracy\n",
    "study.optimize(objective, n_trials=100)  # Number of trials to run\n",
    "\n",
    "# Access the best hyperparameters and accuracy\n",
    "best_params = study.best_params\n",
    "best_accuracy = study.best_value\n",
    "print(best_params, best_accuracy)"
   ]
  }
 ],
 "metadata": {
  "accelerator": "GPU",
  "colab": {
   "gpuType": "T4",
   "provenance": []
  },
  "kernelspec": {
   "display_name": "Python 3 (ipykernel)",
   "language": "python",
   "name": "python3"
  },
  "language_info": {
   "codemirror_mode": {
    "name": "ipython",
    "version": 3
   },
   "file_extension": ".py",
   "mimetype": "text/x-python",
   "name": "python",
   "nbconvert_exporter": "python",
   "pygments_lexer": "ipython3",
   "version": "3.10.11"
  }
 },
 "nbformat": 4,
 "nbformat_minor": 5
}
